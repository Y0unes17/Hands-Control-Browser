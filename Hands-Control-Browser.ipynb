{
 "cells": [
  {
   "cell_type": "code",
   "execution_count": 1,
   "metadata": {},
   "outputs": [],
   "source": [
    "import cv2\n",
    "import mediapipe as mp\n",
    "import time\n",
    "import pyautogui\n",
    "cap = cv2.VideoCapture(0)\n",
    " \n",
    "mpHands = mp.solutions.hands\n",
    "hands = mpHands.Hands()\n",
    "mpDraw = mp.solutions.drawing_utils\n",
    " \n",
    "pTime = 0\n",
    "cTime = 0\n",
    " \n",
    "while True:\n",
    "    success, img = cap.read()\n",
    "    imgRGB = cv2.cvtColor(img, cv2.COLOR_BGR2RGB)\n",
    "    results = hands.process(imgRGB)\n",
    "    # print(results.multi_hand_landmarks)\n",
    " \n",
    "    if results.multi_hand_landmarks:\n",
    "        for handLms in results.multi_hand_landmarks:\n",
    "            for id, lm in enumerate(handLms.landmark):\n",
    "                # print(id, lm)\n",
    "               \n",
    "                h, w, c = img.shape\n",
    "               \n",
    "                #print(handLms.landmark[mp.solutions.hands.HandLandmark.WRIST])\n",
    "                cx, cy = int(lm.x * w), int(lm.y * h)\n",
    "                #print(id, cx, cy)\n",
    "                if id==8:\n",
    "                    cv2.circle(img, (cx, cy), 7, (255, 0, 0), cv2.FILLED)\n",
    "                    if handLms.landmark[mp.solutions.hands.HandLandmark.WRIST].z > 0 :\n",
    "                        pyautogui.press('down')\n",
    "                elif id==4 :\n",
    "                    cv2.circle(img, (cx, cy), 7, (255, 0, 0), cv2.FILLED)\n",
    "                    if handLms.landmark[mp.solutions.hands.HandLandmark.INDEX_FINGER_TIP].y < 0.5 :\n",
    "                        pyautogui.press('up')\n",
    " \n",
    "            mpDraw.draw_landmarks(img, handLms, mpHands.HAND_CONNECTIONS)\n",
    " \n",
    "    \n",
    "    cv2.imshow(\"Image\", img)\n",
    "    if cv2.waitKey(10) == ord('q'):\n",
    "        break\n",
    "cap.release()\n",
    "cv2.destroyAllWindows()"
   ]
  },
  {
   "cell_type": "code",
   "execution_count": null,
   "metadata": {},
   "outputs": [],
   "source": []
  }
 ],
 "metadata": {
  "kernelspec": {
   "display_name": "Python 3",
   "language": "python",
   "name": "python3"
  },
  "language_info": {
   "codemirror_mode": {
    "name": "ipython",
    "version": 3
   },
   "file_extension": ".py",
   "mimetype": "text/x-python",
   "name": "python",
   "nbconvert_exporter": "python",
   "pygments_lexer": "ipython3",
   "version": "3.7.4"
  }
 },
 "nbformat": 4,
 "nbformat_minor": 4
}
